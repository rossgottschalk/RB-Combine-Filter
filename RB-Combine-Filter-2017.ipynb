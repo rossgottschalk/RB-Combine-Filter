{
 "cells": [
  {
   "cell_type": "code",
   "execution_count": 3,
   "metadata": {
    "collapsed": false
   },
   "outputs": [
    {
     "name": "stdout",
     "output_type": "stream",
     "text": [
      "                    Name                    School Position  Height  Weight  \\\n",
      "0    Carson, Christopher            Oklahoma State       RB      72     218   \n",
      "1         Clement, Corey                 Wisconsin       RB      70     220   \n",
      "2           Cohen, Tarik  North Carolina A&T State       RB      66     179   \n",
      "3          Conner, James                Pittsburgh       RB      73     233   \n",
      "4           Cook, Dalvin                Florida St       RB      70     210   \n",
      "5          Davis, Justin                       USC       RB      73     208   \n",
      "6            Dayes, Matt      North Carolina State       RB      69     205   \n",
      "7        Foreman, D'onta                     Texas       RB      72     233   \n",
      "8     Fournette, Leonard           Louisiana State       RB      72     240   \n",
      "9         Gallman, Wayne                   Clemson       RB      72     215   \n",
      "10  Henderson, De'Angelo          Coastal Carolina       RB      67     208   \n",
      "11           Hill, Brian                   Wyoming       RB      73     219   \n",
      "12          Hood, Elijah            North Carolina       RB      72     232   \n",
      "13          Hunt, Kareem                    Toledo       RB      70     216   \n",
      "14          Jones, Aaron                      UTEP       RB      69     208   \n",
      "15         Kamara, Alvin                 Tennessee       RB      70     214   \n",
      "16             Logan, TJ            North Carolina       RB      69     196   \n",
      "17          Mack, Marlon             South Florida       RB      71     213   \n",
      "18  McCaffrey, Christian                  Stanford       RB      71     202   \n",
      "19       McGuire, Elijah       Louisiana-Lafayette       RB      71     214   \n",
      "20     McNichols, Jeremy               Boise State       RB      69     214   \n",
      "21      Ogunbowale, Dare                 Wisconsin       RB      71     213   \n",
      "22        Perine, Samaje                  Oklahoma       RB      70     233   \n",
      "23          Pumphrey, DJ           San Diego State       RB      68     176   \n",
      "24       Redding, Devine                   Indiana       RB      68     205   \n",
      "25           Rogers, Sam             Virginia Tech       FB      70     231   \n",
      "26         Shell, Rushel             West Virginia       RB      70     227   \n",
      "27        Smith, De'Veon                  Michigan       RB      71     223   \n",
      "28    Stevenson, Freddie             Florida State       FB      72     234   \n",
      "29         Thomas, Jahad                    Temple       RB      70     190   \n",
      "30      Williams, Jamaal             Brigham Young       RB      72     212   \n",
      "31         Williams, Joe                      Utah       RB      71     210   \n",
      "32     Williams, Stanley                  Kentucky       RB      67     190   \n",
      "\n",
      "   Arm Length Hand Size  40-Yard Dash  Bench Press  Vertical Jump  Broad Jump  \\\n",
      "0      33 1/4     9 5/8          4.58         23.0           37.0       130.0   \n",
      "1      30 1/2     9 3/4          4.68         19.0           28.5       115.0   \n",
      "2      29 3/4    10 1/8          4.42         11.0           31.5       118.0   \n",
      "3      31 1/4     9 7/8          4.65         20.0           29.0       113.0   \n",
      "4      32 3/8     9 1/4          4.49         22.0           30.5       116.0   \n",
      "5          31     9 5/8           NaN         21.0            NaN         NaN   \n",
      "6          30    10 1/2           NaN         18.0           28.0       109.0   \n",
      "7      31 3/8    10 1/8           NaN         18.0            NaN         NaN   \n",
      "8      31 5/8     9 1/4          4.51          NaN           28.5         NaN   \n",
      "9      32 5/8     9 1/8          4.60         21.0           29.5       120.0   \n",
      "10         29     9 1/2          4.48         20.0           34.0       120.0   \n",
      "11     31 3/8     8 7/8          4.54         15.0           34.0       125.0   \n",
      "12     30 3/8     9 3/8           NaN         18.0            NaN         NaN   \n",
      "13     31 3/8     9 5/8          4.62         18.0           36.5       119.0   \n",
      "14     32 1/2     9 1/2          4.56         16.0           37.5       127.0   \n",
      "15     32 3/4     9 1/4          4.56         15.0           39.5       131.0   \n",
      "16         32         9          4.37         17.0           33.5       121.0   \n",
      "17         32         9          4.50         15.0           35.5       125.0   \n",
      "18         30         9          4.48         10.0           37.5       121.0   \n",
      "19         31         9          4.53         15.0           36.0       120.0   \n",
      "20     31 1/2        10          4.49          NaN           35.5       121.0   \n",
      "21     31 3/8     9 1/8          4.65         14.0           35.0       120.0   \n",
      "22     30 3/8        10          4.65         30.0           33.0       116.0   \n",
      "23         29     8 1/2          4.48          5.0           33.5       117.0   \n",
      "24     29 1/4     9 5/8          4.76         16.0           30.5       116.0   \n",
      "25     30 1/4     9 3/4          4.93         19.0           32.0       114.0   \n",
      "26         30     9 5/8          4.74         21.0           32.5         NaN   \n",
      "27     29 1/2         9           NaN         22.0           29.0       108.0   \n",
      "28     32 3/4     9 5/8          4.75         24.0           28.0       111.0   \n",
      "29     30 1/8         9          4.62         11.0           32.0       116.0   \n",
      "30     31 1/4        10          4.59          NaN           30.0       123.0   \n",
      "31     30 3/4     9 3/8          4.51         14.0           35.0       125.0   \n",
      "32         30     8 5/8          4.41         18.0           36.0       121.0   \n",
      "\n",
      "    3-Cone  20-Yard Shuttle  60-Yard Shuttle  \n",
      "0      NaN              NaN              NaN  \n",
      "1      NaN              NaN              NaN  \n",
      "2      NaN              NaN              NaN  \n",
      "3      NaN              NaN              NaN  \n",
      "4     7.27             4.53              NaN  \n",
      "5      NaN              NaN              NaN  \n",
      "6      NaN              NaN              NaN  \n",
      "7      NaN              NaN              NaN  \n",
      "8      NaN              NaN              NaN  \n",
      "9     7.17             4.28              NaN  \n",
      "10     NaN              NaN              NaN  \n",
      "11    7.03             4.32            11.29  \n",
      "12     NaN              NaN              NaN  \n",
      "13     NaN              NaN              NaN  \n",
      "14    6.82             4.20            11.53  \n",
      "15     NaN              NaN              NaN  \n",
      "16     NaN              NaN              NaN  \n",
      "17     NaN              NaN              NaN  \n",
      "18    6.57             4.22            11.03  \n",
      "19    7.26             4.56            11.78  \n",
      "20    6.93             4.28              NaN  \n",
      "21    6.99             4.34              NaN  \n",
      "22    7.26             4.37            11.71  \n",
      "23     NaN              NaN              NaN  \n",
      "24    7.18             4.46            12.03  \n",
      "25     NaN              NaN            11.84  \n",
      "26     NaN              NaN              NaN  \n",
      "27    7.30             4.56            11.75  \n",
      "28    7.65             4.45              NaN  \n",
      "29     NaN              NaN              NaN  \n",
      "30    7.25             4.53              NaN  \n",
      "31    7.19             4.19              NaN  \n",
      "32    6.86             4.18              NaN  \n"
     ]
    }
   ],
   "source": [
    "import pandas as pd\n",
    "filename = 'Combine_RBs_2017.csv'\n",
    "data = pd.read_csv(filename)\n",
    "df = pd.DataFrame(data)\n",
    "print(df)"
   ]
  },
  {
   "cell_type": "code",
   "execution_count": 4,
   "metadata": {
    "collapsed": true
   },
   "outputs": [],
   "source": [
    "def simplifyDF(dataframe):\n",
    "    newDataframe = dataframe[['Name', 'School', 'Height', 'Weight', '40-Yard Dash', '3-Cone']]\n",
    "    return newDataframe"
   ]
  },
  {
   "cell_type": "code",
   "execution_count": 5,
   "metadata": {
    "collapsed": false
   },
   "outputs": [
    {
     "name": "stdout",
     "output_type": "stream",
     "text": [
      "                  Name               School  Height  Weight  40-Yard Dash  \\\n",
      "9       Gallman, Wayne              Clemson      72     215          4.60   \n",
      "11         Hill, Brian              Wyoming      73     219          4.54   \n",
      "14        Jones, Aaron                 UTEP      69     208          4.56   \n",
      "19     McGuire, Elijah  Louisiana-Lafayette      71     214          4.53   \n",
      "21    Ogunbowale, Dare            Wisconsin      71     213          4.65   \n",
      "22      Perine, Samaje             Oklahoma      70     233          4.65   \n",
      "24     Redding, Devine              Indiana      68     205          4.76   \n",
      "28  Stevenson, Freddie        Florida State      72     234          4.75   \n",
      "30    Williams, Jamaal        Brigham Young      72     212          4.59   \n",
      "31       Williams, Joe                 Utah      71     210          4.51   \n",
      "\n",
      "    3-Cone  \n",
      "9     7.17  \n",
      "11    7.03  \n",
      "14    6.82  \n",
      "19    7.26  \n",
      "21    6.99  \n",
      "22    7.26  \n",
      "24    7.18  \n",
      "28    7.65  \n",
      "30    7.25  \n",
      "31    7.19  \n"
     ]
    }
   ],
   "source": [
    "df1 = df[df['40-Yard Dash'] >= 4.5]\n",
    "df1st = df1[df1['3-Cone'] >= 6.8]\n",
    "df1st = simplifyDF(df1st)\n",
    "print(df1st)"
   ]
  },
  {
   "cell_type": "code",
   "execution_count": 6,
   "metadata": {
    "collapsed": false
   },
   "outputs": [
    {
     "name": "stdout",
     "output_type": "stream",
     "text": [
      "Empty DataFrame\n",
      "Columns: [Name, School, Height, Weight, 40-Yard Dash, 3-Cone]\n",
      "Index: []\n"
     ]
    }
   ],
   "source": [
    "df2nd = df1[df1['3-Cone'] < 6.8]\n",
    "df2nd = simplifyDF(df2nd)\n",
    "print(df2nd)"
   ]
  },
  {
   "cell_type": "code",
   "execution_count": 7,
   "metadata": {
    "collapsed": false
   },
   "outputs": [
    {
     "name": "stdout",
     "output_type": "stream",
     "text": [
      "                    Name                    School  Height  Weight  \\\n",
      "2           Cohen, Tarik  North Carolina A&T State      66     179   \n",
      "10  Henderson, De'Angelo          Coastal Carolina      67     208   \n",
      "16             Logan, TJ            North Carolina      69     196   \n",
      "20     McNichols, Jeremy               Boise State      69     214   \n",
      "23          Pumphrey, DJ           San Diego State      68     176   \n",
      "32     Williams, Stanley                  Kentucky      67     190   \n",
      "\n",
      "    40-Yard Dash  3-Cone  \n",
      "2           4.42     NaN  \n",
      "10          4.48     NaN  \n",
      "16          4.37     NaN  \n",
      "20          4.49    6.93  \n",
      "23          4.48     NaN  \n",
      "32          4.41    6.86  \n"
     ]
    }
   ],
   "source": [
    "df3 = df[df['40-Yard Dash'] < 4.5]\n",
    "dfShort = df3[df3['Height'] < 70]\n",
    "df3rd = simplifyDF(dfShort)\n",
    "print(df3rd)"
   ]
  },
  {
   "cell_type": "code",
   "execution_count": 8,
   "metadata": {
    "collapsed": false
   },
   "outputs": [
    {
     "name": "stdout",
     "output_type": "stream",
     "text": [
      "                    Name      School  Height  Weight  40-Yard Dash  3-Cone\n",
      "4           Cook, Dalvin  Florida St      70     210          4.49    7.27\n",
      "18  McCaffrey, Christian    Stanford      71     202          4.48    6.57\n"
     ]
    }
   ],
   "source": [
    "dfTall = df3[df3['Height'] >= 70]\n",
    "dfLessExplosive = dfTall[dfTall['Broad Jump'] < 124]\n",
    "df4th = dfLessExplosive[dfLessExplosive['40-Yard Dash'] >= 4.4]\n",
    "df4th = simplifyDF(df4th)\n",
    "print(df4th)"
   ]
  },
  {
   "cell_type": "code",
   "execution_count": 9,
   "metadata": {
    "collapsed": false
   },
   "outputs": [
    {
     "name": "stdout",
     "output_type": "stream",
     "text": [
      "Empty DataFrame\n",
      "Columns: [Name, School, Height, Weight, 40-Yard Dash, 3-Cone]\n",
      "Index: []\n"
     ]
    }
   ],
   "source": [
    "df5th = dfLessExplosive[dfLessExplosive['40-Yard Dash'] < 4.4]\n",
    "df5th = simplifyDF(df5th)\n",
    "print (df5th)"
   ]
  },
  {
   "cell_type": "code",
   "execution_count": 10,
   "metadata": {
    "collapsed": false
   },
   "outputs": [
    {
     "name": "stdout",
     "output_type": "stream",
     "text": [
      "Empty DataFrame\n",
      "Columns: [Name, School, Height, Weight, 40-Yard Dash, 3-Cone]\n",
      "Index: []\n"
     ]
    }
   ],
   "source": [
    "df6th = dfTall[dfTall['Broad Jump'] >= 124]\n",
    "df6th = simplifyDF(df6th) \n",
    "print(df6th)"
   ]
  }
 ],
 "metadata": {
  "kernelspec": {
   "display_name": "Python 3",
   "language": "python",
   "name": "python3"
  },
  "language_info": {
   "codemirror_mode": {
    "name": "ipython",
    "version": 3
   },
   "file_extension": ".py",
   "mimetype": "text/x-python",
   "name": "python",
   "nbconvert_exporter": "python",
   "pygments_lexer": "ipython3",
   "version": "3.6.0"
  }
 },
 "nbformat": 4,
 "nbformat_minor": 2
}
